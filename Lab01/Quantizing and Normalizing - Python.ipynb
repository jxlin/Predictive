{
 "cells": [
  {
   "cell_type": "code",
   "execution_count": 1,
   "metadata": {
    "collapsed": false
   },
   "outputs": [],
   "source": [
    "import numpy as np\n",
    "from pyspark import SparkContext\n",
    "from pyspark.sql import SQLContext\n",
    "from pyspark.sql.types import *\n",
    "from pyspark.ml.feature import Bucketizer\n",
    "sc = SparkContext('yarn-client')\n",
    "splits = [-float(\"inf\"), 8.0, 12.0, 15.0, float(\"inf\")]\n",
    "temp = [(1, 10.2), (2, 17.1), (3, 9.6), (4, 5.0), (5, 3.4)]\n",
    "rainfall = sc.parallelize(temp)\n",
    "\n"
   ]
  },
  {
   "cell_type": "code",
   "execution_count": 2,
   "metadata": {
    "collapsed": false
   },
   "outputs": [],
   "source": [
    "sqlContext = SQLContext(sc)\n",
    "fields = [StructField(\"id\", IntegerType(), True), StructField(\"rainfall\", DoubleType(), True)]\n",
    "schema = StructType(fields)\n",
    "\n",
    "df = sqlContext.createDataFrame(rainfall, schema)\n",
    "\n"
   ]
  },
  {
   "cell_type": "code",
   "execution_count": 3,
   "metadata": {
    "collapsed": true
   },
   "outputs": [],
   "source": [
    "bucketizer = Bucketizer(splits=splits, inputCol=\"rainfall\", outputCol=\"discrainfall\")"
   ]
  },
  {
   "cell_type": "code",
   "execution_count": 4,
   "metadata": {
    "collapsed": false
   },
   "outputs": [
    {
     "name": "stdout",
     "output_type": "stream",
     "text": [
      "+---+--------+------------+\n",
      "| id|rainfall|discrainfall|\n",
      "+---+--------+------------+\n",
      "|  1|    10.2|         1.0|\n",
      "|  2|    17.1|         3.0|\n",
      "|  3|     9.6|         1.0|\n",
      "|  4|     5.0|         0.0|\n",
      "|  5|     3.4|         0.0|\n",
      "+---+--------+------------+\n",
      "\n"
     ]
    }
   ],
   "source": [
    "bucketedData = bucketizer.transform(df)\n",
    "bucketedData.show()\n"
   ]
  },
  {
   "cell_type": "code",
   "execution_count": 5,
   "metadata": {
    "collapsed": true
   },
   "outputs": [],
   "source": [
    "from pyspark.mllib.feature import Normalizer\n",
    "from pyspark.mllib.linalg import Vectors\n",
    "\n",
    "data = [[1, 34.0, 587.0],[5, 76.0, 1005.0], [3, 22.0, 867.0], [5, 19.0, 475.0], [2, 22.0, 666.0]]\n",
    "input = sc.parallelize(data)\n"
   ]
  },
  {
   "cell_type": "code",
   "execution_count": 6,
   "metadata": {
    "collapsed": false
   },
   "outputs": [
    {
     "data": {
      "text/plain": [
       "[[1, 34.0, 587.0],\n",
       " [5, 76.0, 1005.0],\n",
       " [3, 22.0, 867.0],\n",
       " [5, 19.0, 475.0],\n",
       " [2, 22.0, 666.0]]"
      ]
     },
     "execution_count": 6,
     "metadata": {},
     "output_type": "execute_result"
    }
   ],
   "source": [
    "input.take(5)"
   ]
  },
  {
   "cell_type": "code",
   "execution_count": 7,
   "metadata": {
    "collapsed": true
   },
   "outputs": [],
   "source": [
    "normalizer = Normalizer()\n",
    "normalized = normalizer.transform(input)\n"
   ]
  },
  {
   "cell_type": "code",
   "execution_count": 8,
   "metadata": {
    "collapsed": false
   },
   "outputs": [
    {
     "data": {
      "text/plain": [
       "[DenseVector([0.0017, 0.0578, 0.9983]),\n",
       " DenseVector([0.005, 0.0754, 0.9971]),\n",
       " DenseVector([0.0035, 0.0254, 0.9997]),\n",
       " DenseVector([0.0105, 0.04, 0.9991]),\n",
       " DenseVector([0.003, 0.033, 0.9995])]"
      ]
     },
     "execution_count": 8,
     "metadata": {},
     "output_type": "execute_result"
    }
   ],
   "source": [
    "normalized.take(5)"
   ]
  },
  {
   "cell_type": "code",
   "execution_count": null,
   "metadata": {
    "collapsed": true
   },
   "outputs": [],
   "source": []
  }
 ],
 "metadata": {
  "kernelspec": {
   "display_name": "Python 2",
   "language": "python",
   "name": "python2"
  },
  "language_info": {
   "codemirror_mode": {
    "name": "ipython",
    "version": 2
   },
   "file_extension": ".py",
   "mimetype": "text/x-python",
   "name": "python",
   "nbconvert_exporter": "python",
   "pygments_lexer": "ipython2",
   "version": "2.7.11"
  }
 },
 "nbformat": 4,
 "nbformat_minor": 0
}
