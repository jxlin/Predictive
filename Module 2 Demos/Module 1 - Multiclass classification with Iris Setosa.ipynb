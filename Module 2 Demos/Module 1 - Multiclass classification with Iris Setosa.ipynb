{
 "cells": [
  {
   "cell_type": "code",
   "execution_count": null,
   "metadata": {
    "collapsed": false
   },
   "outputs": [],
   "source": [
    "import org.apache.spark.mllib.classification.{LogisticRegressionWithLBFGS, LogisticRegressionModel}\n",
    "import org.apache.spark.mllib.evaluation.MulticlassMetrics\n",
    "import org.apache.spark.mllib.regression.LabeledPoint\n",
    "import org.apache.spark.mllib.linalg.Vectors\n",
    "import org.apache.spark.mllib.util.MLUtils\n",
    "val input = sc.textFile(\"/iris-multiclass.csv\")\n",
    "input.take(5)"
   ]
  },
  {
   "cell_type": "code",
   "execution_count": null,
   "metadata": {
    "collapsed": false
   },
   "outputs": [],
   "source": [
    "// map the inputs correctly to a LabeledPoint\n",
    "val classMap = Map(\"Iris-setosa\"-> 0.0, \"Iris-versicolor\"-> 1.0, \"Iris-virginica\"-> 2.0)\n",
    "val data = input.map { line =>\n",
    "    val lineSplit = line.split(',')\n",
    "    val values = Vectors.dense(lineSplit.take(4).map(_.toDouble))\n",
    "    LabeledPoint(classMap(lineSplit(4)), values)\n",
    "}.persist()"
   ]
  },
  {
   "cell_type": "code",
   "execution_count": null,
   "metadata": {
    "collapsed": false
   },
   "outputs": [],
   "source": [
    "// train the data\n",
    "val allData = data.randomSplit(Array(0.7, 0.3), seed = 11L)\n",
    "val (training, test) = (allData(0), allData(1))\n",
    "val model = new LogisticRegressionWithLBFGS().setNumClasses(3).run(training)"
   ]
  },
  {
   "cell_type": "code",
   "execution_count": null,
   "metadata": {
    "collapsed": false
   },
   "outputs": [],
   "source": [
    "// make predictions based on the inputs\n",
    "val predictionAndLabels = test.map { case LabeledPoint(label, features) =>\n",
    "  val prediction = model.predict(features)\n",
    "  (prediction, label)\n",
    "}"
   ]
  },
  {
   "cell_type": "code",
   "execution_count": null,
   "metadata": {
    "collapsed": false
   },
   "outputs": [],
   "source": [
    "// count the precision\n",
    "val mappedPredLabs = predictionAndLabels.map(mapped => (classMap.filter(kv => kv._2 == mapped._1).toList(0)._1, classMap.filter(kv => kv._2 == mapped._2).toList(0)._1))\n",
    "val countWrong = mappedPredLabs.filter(items => items._1 != items._2).count\n",
    "val countCorrect = mappedPredLabs.filter(items => items._1 == items._2).count\n",
    "val precision = countCorrect.toDouble / (countCorrect + countWrong).toDouble"
   ]
  },
  {
   "cell_type": "code",
   "execution_count": null,
   "metadata": {
    "collapsed": false
   },
   "outputs": [],
   "source": [
    "// check the confusion matrix\n",
    "val metrics = new MulticlassMetrics(predictionAndLabels) \n",
    "val metricsRecall = metrics.recall\n",
    "val cf = metrics.confusionMatrix"
   ]
  },
  {
   "cell_type": "code",
   "execution_count": null,
   "metadata": {
    "collapsed": false
   },
   "outputs": [],
   "source": [
    "val metricsPrecision = metrics.precision "
   ]
  }
 ],
 "metadata": {
  "kernelspec": {
   "display_name": "Spark",
   "language": "",
   "name": "sparkkernel"
  },
  "language_info": {
   "mimetype": "text/x-scala",
   "name": "scala",
   "pygments_lexer": "scala"
  }
 },
 "nbformat": 4,
 "nbformat_minor": 0
}
