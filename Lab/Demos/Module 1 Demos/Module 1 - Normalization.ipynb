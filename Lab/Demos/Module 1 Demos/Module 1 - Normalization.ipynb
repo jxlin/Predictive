{
 "cells": [
  {
   "cell_type": "code",
   "execution_count": null,
   "metadata": {
    "collapsed": false
   },
   "outputs": [],
   "source": [
    "import org.apache.spark.mllib.feature.Normalizer\n",
    "import org.apache.spark.mllib.util.MLUtils\n",
    "import org.apache.spark.mllib.linalg.Vectors\n",
    "\n",
    "val data = Seq(Vectors.dense(1, 34D, 587D), Vectors.dense(5, 76D, 1005D), Vectors.dense(3, 22D, 867D), Vectors.dense(5, 19D, 475D), Vectors.dense(2, 22D, 666D))\n",
    "val input = sc.parallelize(data)"
   ]
  },
  {
   "cell_type": "code",
   "execution_count": null,
   "metadata": {
    "collapsed": false
   },
   "outputs": [],
   "source": [
    "val normalizer = new Normalizer()\n",
    "val normalized = normalizer.transform(input)"
   ]
  },
  {
   "cell_type": "code",
   "execution_count": null,
   "metadata": {
    "collapsed": false
   },
   "outputs": [],
   "source": [
    "normalized.take(5)"
   ]
  }
 ],
 "metadata": {
  "kernelspec": {
   "display_name": "Spark",
   "language": "",
   "name": "sparkkernel"
  },
  "language_info": {
   "mimetype": "text/x-scala",
   "name": "scala",
   "pygments_lexer": "scala"
  }
 },
 "nbformat": 4,
 "nbformat_minor": 0
}
