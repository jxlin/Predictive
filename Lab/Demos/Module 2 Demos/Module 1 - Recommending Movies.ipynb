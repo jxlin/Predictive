{
 "cells": [
  {
   "cell_type": "code",
   "execution_count": null,
   "metadata": {
    "collapsed": false
   },
   "outputs": [],
   "source": [
    "import org.apache.spark.rdd._\n",
    "import org.apache.spark.mllib.recommendation.{ALS, Rating, MatrixFactorizationModel}"
   ]
  },
  {
   "cell_type": "code",
   "execution_count": null,
   "metadata": {
    "collapsed": false
   },
   "outputs": [],
   "source": [
    "val data = sc.textFile(\"/ratings.csv\")\n",
    "val ratings = data.map(_.split(',') match { case Array(user, item, rate) =>\n",
    "    Rating(user.toInt, item.toInt, rate.toDouble)\n",
    "})\n",
    "  \n",
    "val splits = ratings.randomSplit(Array(0.7, 0.3))\n",
    "val (trainingData, testData) = (splits(0), splits(1))"
   ]
  },
  {
   "cell_type": "code",
   "execution_count": null,
   "metadata": {
    "collapsed": false
   },
   "outputs": [],
   "source": [
    "// train implicit uses rank and num iterations, lambda and alpha\n",
    "val factorization = ALS.train(trainingData, 9, 10, 0.01, 1)"
   ]
  },
  {
   "cell_type": "code",
   "execution_count": null,
   "metadata": {
    "collapsed": false
   },
   "outputs": [],
   "source": [
    "// use the test data now to check\n",
    "val usersProducts = testData.map { case Rating(user, product, rate) =>\n",
    "  (user, product)\n",
    "}"
   ]
  },
  {
   "cell_type": "code",
   "execution_count": null,
   "metadata": {
    "collapsed": false
   },
   "outputs": [],
   "source": [
    "// return the product ratings \n",
    "val predictions = factorization.predict(usersProducts).map { case Rating(user, product, rate) => \n",
    "    ((user, product), rate)\n",
    "}\n",
    "predictions.take(5)"
   ]
  },
  {
   "cell_type": "code",
   "execution_count": null,
   "metadata": {
    "collapsed": false
   },
   "outputs": [],
   "source": [
    "// join with the original and check whether the products \n",
    "val ratesAndPreds = ratings.map { case Rating(user, product, rate) => \n",
    "  ((user, product), rate)\n",
    "}.join(predictions)\n",
    "ratesAndPreds.take(5)"
   ]
  },
  {
   "cell_type": "code",
   "execution_count": null,
   "metadata": {
    "collapsed": false
   },
   "outputs": [],
   "source": [
    "// Display the movies in the dataset\n",
    "val movies = sc.textFile(\"/movies.csv\").map(line => line.split(\",\")).map(movs => (movs(0).toInt, movs(1)))\n",
    "val movieSet = ratesAndPreds.map { case ((a, b), (c, d)) =>\n",
    "    (b, (a, c, d))\n",
    "}.join(movies)\n",
    "movieSet.take(10)"
   ]
  },
  {
   "cell_type": "code",
   "execution_count": null,
   "metadata": {
    "collapsed": false
   },
   "outputs": [],
   "source": [
    "// calculate the error here - remember this is in the reported units of the scale - so on average we're MSE out on the scale \n",
    "val MSE = ratesAndPreds.map { case ((user, product), (r1, r2)) => \n",
    "  val err = (r1 - r2)\n",
    "  err * err\n",
    "}.mean()\n",
    "println(\"Mean Squared Error = \" + MSE)"
   ]
  },
  {
   "cell_type": "code",
   "execution_count": null,
   "metadata": {
    "collapsed": true
   },
   "outputs": [],
   "source": []
  }
 ],
 "metadata": {
  "kernelspec": {
   "display_name": "Spark",
   "language": "",
   "name": "sparkkernel"
  },
  "language_info": {
   "mimetype": "text/x-scala",
   "name": "scala",
   "pygments_lexer": "scala"
  }
 },
 "nbformat": 4,
 "nbformat_minor": 0
}
