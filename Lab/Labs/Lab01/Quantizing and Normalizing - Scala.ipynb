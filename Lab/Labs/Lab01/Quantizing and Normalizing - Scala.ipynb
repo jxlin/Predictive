{
 "cells": [
  {
   "cell_type": "code",
   "execution_count": 1,
   "metadata": {
    "collapsed": false
   },
   "outputs": [
    {
     "name": "stdout",
     "output_type": "stream",
     "text": [
      "Creating SparkContext as 'sc'\n",
      "Creating SqlContext as 'sqlContext'\n",
      "Creating HiveContext as 'hiveContext'\n",
      "rainfall: org.apache.spark.rdd.RDD[(Int, Double)] = ParallelCollectionRDD[0] at parallelize at <console>:24"
     ]
    }
   ],
   "source": [
    "import org.apache.spark.ml.feature.Bucketizer\n",
    "import org.apache.spark.sql.DataFrame\n",
    "val splits = Array(Double.NegativeInfinity, 8.0, 12.0, 15.0, Double.PositiveInfinity)\n",
    "val temp = Array((1, 10.2), (2, 17.1), (3, 9.6), (4, 5.0), (5, 3.4))\n",
    "val rainfall = sc.parallelize(temp)\n"
   ]
  },
  {
   "cell_type": "code",
   "execution_count": 2,
   "metadata": {
    "collapsed": false
   },
   "outputs": [
    {
     "name": "stdout",
     "output_type": "stream",
     "text": [
      "df: org.apache.spark.sql.DataFrame = [id: int, rainfall: double]"
     ]
    }
   ],
   "source": [
    "val df = sqlContext.createDataFrame(rainfall).toDF(\"id\", \"rainfall\")"
   ]
  },
  {
   "cell_type": "code",
   "execution_count": 3,
   "metadata": {
    "collapsed": false
   },
   "outputs": [
    {
     "name": "stdout",
     "output_type": "stream",
     "text": [
      "res2: bucketizer.type = bucketizer_b703abf9166c"
     ]
    }
   ],
   "source": [
    "val bucketizer = new Bucketizer()\n",
    "bucketizer.setInputCol(\"rainfall\")\n",
    "bucketizer.setOutputCol(\"discrainfall\")\n",
    "bucketizer.setSplits(splits)\n"
   ]
  },
  {
   "cell_type": "code",
   "execution_count": 4,
   "metadata": {
    "collapsed": false
   },
   "outputs": [
    {
     "name": "stdout",
     "output_type": "stream",
     "text": [
      "+---+--------+------------+\n",
      "| id|rainfall|discrainfall|\n",
      "+---+--------+------------+\n",
      "|  1|    10.2|         1.0|\n",
      "|  2|    17.1|         3.0|\n",
      "|  3|     9.6|         1.0|\n",
      "|  4|     5.0|         0.0|\n",
      "|  5|     3.4|         0.0|\n",
      "+---+--------+------------+"
     ]
    }
   ],
   "source": [
    "val bucketedData = bucketizer.transform(df)\n",
    "bucketedData.show()\n"
   ]
  },
  {
   "cell_type": "code",
   "execution_count": 5,
   "metadata": {
    "collapsed": false
   },
   "outputs": [
    {
     "name": "stdout",
     "output_type": "stream",
     "text": [
      "input: org.apache.spark.rdd.RDD[org.apache.spark.mllib.linalg.Vector] = ParallelCollectionRDD[6] at parallelize at <console>:30"
     ]
    }
   ],
   "source": [
    "import org.apache.spark.ml.feature.Bucketizer\n",
    "import org.apache.spark.sql.DataFrame\n",
    "val splits = Array(Double.NegativeInfinity, 8.0, 12.0, 15.0, Double.PositiveInfinity)\n",
    "val temp = Array((1, 10.2), (2, 17.1), (3, 9.6), (4, 5.0), (5, 3.4))\n",
    "val rainfall = sc.parallelize(temp)\n",
    "import org.apache.spark.mllib.feature.Normalizer\n",
    "import org.apache.spark.mllib.util.MLUtils\n",
    "import org.apache.spark.mllib.linalg.Vectors\n",
    "\n",
    "val data = Seq(Vectors.dense(1, 34D, 587D), Vectors.dense(5, 76D, 1005D), Vectors.dense(3, 22D, 867D), Vectors.dense(5, 19D, 475D), Vectors.dense(2, 22D, 666D))\n",
    "val input = sc.parallelize(data)\n"
   ]
  },
  {
   "cell_type": "code",
   "execution_count": 6,
   "metadata": {
    "collapsed": false
   },
   "outputs": [
    {
     "name": "stdout",
     "output_type": "stream",
     "text": [
      "res5: Array[org.apache.spark.mllib.linalg.Vector] = Array([1.0,34.0,587.0], [5.0,76.0,1005.0], [3.0,22.0,867.0], [5.0,19.0,475.0], [2.0,22.0,666.0])"
     ]
    }
   ],
   "source": [
    "input.collect"
   ]
  },
  {
   "cell_type": "code",
   "execution_count": 7,
   "metadata": {
    "collapsed": false
   },
   "outputs": [
    {
     "name": "stdout",
     "output_type": "stream",
     "text": [
      "res6: Array[org.apache.spark.mllib.linalg.Vector] = Array([1.0,34.0,587.0], [5.0,76.0,1005.0], [3.0,22.0,867.0], [5.0,19.0,475.0], [2.0,22.0,666.0])"
     ]
    }
   ],
   "source": [
    "input.take(5)"
   ]
  },
  {
   "cell_type": "code",
   "execution_count": 8,
   "metadata": {
    "collapsed": false
   },
   "outputs": [
    {
     "name": "stdout",
     "output_type": "stream",
     "text": [
      "normalized: org.apache.spark.rdd.RDD[org.apache.spark.mllib.linalg.Vector] = MapPartitionsRDD[7] at map at VectorTransformer.scala:52"
     ]
    }
   ],
   "source": [
    "val normalizer = new Normalizer()\n",
    "val normalized = normalizer.transform(input)\n"
   ]
  },
  {
   "cell_type": "code",
   "execution_count": 9,
   "metadata": {
    "collapsed": false
   },
   "outputs": [
    {
     "name": "stdout",
     "output_type": "stream",
     "text": [
      "res7: Array[org.apache.spark.mllib.linalg.Vector] = Array([0.0017007245439403758,0.05782463449397278,0.9983253072930006], [0.004960898507866424,0.07540565731956965,0.9971406000811512], [0.003459073470743241,0.025366538785450435,0.9996722330447966], [0.010517323098352894,0.039965827773741,0.9991456943435248], [0.003001352413962384,0.033014876553586224,0.9994503538494739])"
     ]
    }
   ],
   "source": [
    "normalized.take(5)"
   ]
  },
  {
   "cell_type": "code",
   "execution_count": null,
   "metadata": {
    "collapsed": true
   },
   "outputs": [],
   "source": []
  }
 ],
 "metadata": {
  "kernelspec": {
   "display_name": "Spark",
   "language": "",
   "name": "sparkkernel"
  },
  "language_info": {
   "mimetype": "text/x-scala",
   "name": "scala",
   "pygments_lexer": "scala"
  }
 },
 "nbformat": 4,
 "nbformat_minor": 0
}
