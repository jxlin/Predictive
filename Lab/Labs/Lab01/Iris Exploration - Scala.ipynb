{
 "cells": [
  {
   "cell_type": "code",
   "execution_count": 1,
   "metadata": {
    "collapsed": false
   },
   "outputs": [
    {
     "name": "stdout",
     "output_type": "stream",
     "text": [
      "Creating SparkContext as 'sc'\n",
      "Creating SqlContext as 'sqlContext'\n",
      "Creating HiveContext as 'hiveContext'\n",
      "res0: Long = 150"
     ]
    }
   ],
   "source": [
    "val input = sc.textFile(\"wasb:///iris-multiclass.csv\")\n",
    "input.count()"
   ]
  },
  {
   "cell_type": "code",
   "execution_count": 2,
   "metadata": {
    "collapsed": false
   },
   "outputs": [
    {
     "name": "stdout",
     "output_type": "stream",
     "text": [
      "res1: String = 5.1,3.5,1.4,0.2,Iris-setosa"
     ]
    }
   ],
   "source": [
    "input.first()"
   ]
  },
  {
   "cell_type": "code",
   "execution_count": 3,
   "metadata": {
    "collapsed": false
   },
   "outputs": [
    {
     "name": "stdout",
     "output_type": "stream",
     "text": [
      "num: org.apache.spark.rdd.RDD[(String, Int)] = ShuffledRDD[4] at reduceByKey at <console>:24"
     ]
    }
   ],
   "source": [
    "val splitter = input.map(line => line.split(','))\n",
    "val num = splitter.map(line => (line(4), 1)).reduceByKey((a, b) => a + b)\n"
   ]
  },
  {
   "cell_type": "code",
   "execution_count": 4,
   "metadata": {
    "collapsed": false
   },
   "outputs": [
    {
     "name": "stdout",
     "output_type": "stream",
     "text": [
      "res2: Array[(String, Int)] = Array((Iris-versicolor,50), (Iris-virginica,50), (Iris-setosa,50))"
     ]
    }
   ],
   "source": [
    "num.take(3)"
   ]
  },
  {
   "cell_type": "code",
   "execution_count": 5,
   "metadata": {
    "collapsed": false
   },
   "outputs": [
    {
     "name": "stdout",
     "output_type": "stream",
     "text": [
      "df: org.apache.spark.sql.DataFrame = [SepalLength: double, SepalWidth: double, PetalLength: double, PetalWidth: double, Species: string]"
     ]
    }
   ],
   "source": [
    "import sqlContext.implicits._\n",
    "case class Iris(SepalLength : Double, SepalWidth : Double, PetalLength : Double, PetalWidth : Double, Species : String)\n",
    "val splitter = input.map(line => line.split(',')).map{ line => \n",
    "    Iris(line(0).toDouble, line(1).toDouble, line(2).toDouble, line(3).toDouble, line(4))\n",
    "    }\n",
    "val df = splitter.toDF()\n"
   ]
  },
  {
   "cell_type": "code",
   "execution_count": 6,
   "metadata": {
    "collapsed": false
   },
   "outputs": [
    {
     "name": "stdout",
     "output_type": "stream",
     "text": [
      "+---------------+-----+\n",
      "|        Species|count|\n",
      "+---------------+-----+\n",
      "|    Iris-setosa|   50|\n",
      "| Iris-virginica|   50|\n",
      "|Iris-versicolor|   50|\n",
      "+---------------+-----+"
     ]
    }
   ],
   "source": [
    "df.groupBy(\"Species\").count().show()"
   ]
  },
  {
   "cell_type": "code",
   "execution_count": 7,
   "metadata": {
    "collapsed": false
   },
   "outputs": [
    {
     "name": "stdout",
     "output_type": "stream",
     "text": [
      "+---------------+---+\n",
      "|        Species|_c1|\n",
      "+---------------+---+\n",
      "|    Iris-setosa| 50|\n",
      "| Iris-virginica| 50|\n",
      "|Iris-versicolor| 50|\n",
      "+---------------+---+"
     ]
    }
   ],
   "source": [
    "df.registerTempTable(\"iris\")\n",
    "sqlContext.sql(\"SELECT Species, COUNT(Species) FROM iris GROUP BY Species\").show()\n"
   ]
  },
  {
   "cell_type": "code",
   "execution_count": null,
   "metadata": {
    "collapsed": true
   },
   "outputs": [],
   "source": []
  }
 ],
 "metadata": {
  "kernelspec": {
   "display_name": "Spark",
   "language": "",
   "name": "sparkkernel"
  },
  "language_info": {
   "mimetype": "text/x-scala",
   "name": "scala",
   "pygments_lexer": "scala"
  }
 },
 "nbformat": 4,
 "nbformat_minor": 0
}
